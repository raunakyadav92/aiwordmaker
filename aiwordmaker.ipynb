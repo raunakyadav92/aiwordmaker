{
  "nbformat": 4,
  "nbformat_minor": 0,
  "metadata": {
    "colab": {
      "provenance": [],
      "authorship_tag": "ABX9TyNHDtvxMFMDb4B1ti4Xiom6",
      "include_colab_link": true
    },
    "kernelspec": {
      "name": "python3",
      "display_name": "Python 3"
    },
    "language_info": {
      "name": "python"
    }
  },
  "cells": [
    {
      "cell_type": "markdown",
      "metadata": {
        "id": "view-in-github",
        "colab_type": "text"
      },
      "source": [
        "<a href=\"https://colab.research.google.com/github/raunakyadav92/aiwordmaker/blob/main/aiwordmaker.ipynb\" target=\"_parent\"><img src=\"https://colab.research.google.com/assets/colab-badge.svg\" alt=\"Open In Colab\"/></a>"
      ]
    },
    {
      "cell_type": "code",
      "execution_count": null,
      "metadata": {
        "id": "b3MZzYgekAGS"
      },
      "outputs": [],
      "source": [
        "import openai\n",
        "import random\n",
        "\n",
        "# Set your OpenAI API key\n",
        "openai.api_key = 'YOUR_OPENAI_API_KEY'\n",
        "\n",
        "def generate_random_letters():\n",
        "    # Ask OpenAI to generate random letters\n",
        "    prompt = \"Give me a list of 6 random English letters.\"\n",
        "    response = openai.Completion.create(\n",
        "        engine=\"text-davinci-003\",\n",
        "        prompt=prompt,\n",
        "        max_tokens=20\n",
        "    )\n",
        "    letters = response.choices[0].text.strip()\n",
        "    return letters\n",
        "\n",
        "def check_word_validity(word):\n",
        "    # Ask OpenAI if this is a valid word\n",
        "    prompt = f\"Is '{word}' a valid English word? Answer with Yes or No.\"\n",
        "    response = openai.Completion.create(\n",
        "        engine=\"text-davinci-003\",\n",
        "        prompt=prompt,\n",
        "        max_tokens=5\n",
        "    )\n",
        "    answer = response.choices[0].text.strip().lower()\n",
        "    return \"yes\" in answer\n",
        "\n",
        "# Game Starts\n",
        "print(\"Welcome to AI Word Maker Game!\")\n",
        "letters = generate_random_letters()\n",
        "print(f\"Your letters are: {letters}\")\n",
        "\n",
        "score = 0\n",
        "attempts = 5\n",
        "\n",
        "while attempts > 0:\n",
        "    user_word = input(\"Make a word using the letters: \").strip().lower()\n",
        "    if check_word_validity(user_word):\n",
        "        print(\"✅ Correct! You earned 1 point.\")\n",
        "        score += 1\n",
        "    else:\n",
        "        print(\"❌ Wrong or invalid word.\")\n",
        "    attempts -= 1\n",
        "\n",
        "print(f\"Game Over! Your total score is {score}. Thanks for playing!\")\n"
      ]
    }
  ]
}